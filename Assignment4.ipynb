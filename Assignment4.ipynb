{
 "cells": [
  {
   "cell_type": "markdown",
   "id": "34ab03b9-419a-4602-92dd-44dc380811ed",
   "metadata": {},
   "source": [
    "                                                        Programming Assignment - 4"
   ]
  },
  {
   "cell_type": "code",
   "execution_count": 31,
   "id": "00b3620a-4b12-403d-8225-8588256e4cb2",
   "metadata": {},
   "outputs": [],
   "source": [
    "## importing required libraries\n",
    "import os\n",
    "from PIL import Image\n",
    "import torch\n",
    "import torchvision.transforms as transforms\n",
    "import torchvision.models as models\n",
    "from sklearn.decomposition import PCA\n",
    "from sklearn.cluster import KMeans,BisectingKMeans, SpectralClustering, DBSCAN, AgglomerativeClustering\n",
    "from sklearn.metrics import fowlkes_mallows_score, silhouette_score\n",
    "import numpy as np\n",
    "import matplotlib.pyplot as plt"
   ]
  },
  {
   "cell_type": "code",
   "execution_count": 3,
   "id": "65071bca-8a8e-417d-99af-0d5b6d263c7a",
   "metadata": {},
   "outputs": [
    {
     "data": {
      "text/plain": [
       "['cropped_images\\\\n02090379-redbone',\n",
       " 'cropped_images\\\\n02097047-miniature_schnauzer',\n",
       " 'cropped_images\\\\n02104365-schipperke',\n",
       " 'cropped_images\\\\n02112018-Pomeranian']"
      ]
     },
     "execution_count": 3,
     "metadata": {},
     "output_type": "execute_result"
    }
   ],
   "source": [
    "## getting data \n",
    "path = \"cropped_images\" \n",
    "folders = [os.path.join(path, folder) for folder in os.listdir(path)]\n",
    "folders"
   ]
  },
  {
   "cell_type": "code",
   "execution_count": 5,
   "id": "3a9ff56d-1a70-4b28-8d27-c39d604401bb",
   "metadata": {},
   "outputs": [],
   "source": [
    "# Preprocessing Transform\n",
    "transform = transforms.Compose([\n",
    "    transforms.Resize((224, 224)),\n",
    "    transforms.ToTensor(),\n",
    "    transforms.Normalize(mean=[0.485, 0.456, 0.406], std=[0.229, 0.224, 0.225]),\n",
    "])"
   ]
  },
  {
   "cell_type": "markdown",
   "id": "7b42889b-afb0-42af-a0a9-8ebe8c112dd0",
   "metadata": {},
   "source": [
    "# model building"
   ]
  },
  {
   "cell_type": "code",
   "execution_count": 8,
   "id": "45fe4be6-f00c-44b6-866a-8f929d0e4fcb",
   "metadata": {},
   "outputs": [],
   "source": [
    "import warnings\n",
    "warnings.filterwarnings(\"ignore\")\n",
    "\n",
    "model = models.resnet18(pretrained=True)\n",
    "model.eval() \n",
    "layer = model._modules.get('layer4')  \n",
    "features = []\n",
    "labels = []  \n",
    "class_to_label = {folder: idx for idx, folder in enumerate(folders)}"
   ]
  },
  {
   "cell_type": "code",
   "execution_count": 10,
   "id": "a37dced6-aa36-4ee9-91dd-a7163b315a53",
   "metadata": {},
   "outputs": [],
   "source": [
    "def get_features(module, input, output):\n",
    "    features.append(output.squeeze().detach().numpy())\n",
    "hook = layer.register_forward_hook(get_features)"
   ]
  },
  {
   "cell_type": "code",
   "execution_count": 12,
   "id": "eda11b2e-572c-493c-8727-a5924eac77b7",
   "metadata": {},
   "outputs": [],
   "source": [
    "for folder, label in class_to_label.items():\n",
    "    for img_name in os.listdir(folder):\n",
    "        img_path = os.path.join(folder, img_name)\n",
    "        try:\n",
    "            image = Image.open(img_path).convert('RGB')\n",
    "            input_tensor = transform(image).unsqueeze(0)\n",
    "            with torch.no_grad():\n",
    "                _ = model(input_tensor)\n",
    "            labels.append(label)\n",
    "        except Exception as e:\n",
    "            print(f\"Error processing image {img_name}: {e}\")"
   ]
  },
  {
   "cell_type": "code",
   "execution_count": 13,
   "id": "0aa8ab33-db90-4b57-8ba8-8ea7c3386bed",
   "metadata": {},
   "outputs": [],
   "source": [
    "hook.remove()"
   ]
  },
  {
   "cell_type": "code",
   "execution_count": 14,
   "id": "93349ff6-fabb-483f-9dc5-e26d224db3cd",
   "metadata": {},
   "outputs": [],
   "source": [
    "features = np.array(features)\n",
    "labels = np.array(labels)"
   ]
  },
  {
   "cell_type": "code",
   "execution_count": 15,
   "id": "e3f91d23-64fa-4264-b95c-82628e316c38",
   "metadata": {},
   "outputs": [],
   "source": [
    "features = features.reshape(features.shape[0], -1)\n"
   ]
  },
  {
   "cell_type": "code",
   "execution_count": 16,
   "id": "1a07649a-8a92-4d18-9dc7-92a4b28eb659",
   "metadata": {},
   "outputs": [],
   "source": [
    "pca = PCA(n_components=2)\n",
    "features_2d = pca.fit_transform(features)\n"
   ]
  },
  {
   "cell_type": "code",
   "execution_count": 17,
   "id": "63882a6b-7666-4103-b540-16f54071a8b0",
   "metadata": {},
   "outputs": [],
   "source": [
    "results = {}"
   ]
  },
  {
   "cell_type": "code",
   "execution_count": 18,
   "id": "d88beda9-d84c-4cb8-be61-d104492c6277",
   "metadata": {},
   "outputs": [],
   "source": [
    "# K-Means Clustering\n",
    "kmeans_random = KMeans(n_clusters=4, init='random', random_state=42)\n",
    "labels_kmeans_random = kmeans_random.fit_predict(features_2d)\n",
    "results['K-Means (Random)'] = labels_kmeans_random"
   ]
  },
  {
   "cell_type": "code",
   "execution_count": 26,
   "id": "2ae46807-596a-4b8f-993e-baa15db43e0d",
   "metadata": {},
   "outputs": [],
   "source": [
    "kmeans_plus = KMeans(n_clusters=4, init='k-means++', random_state=42)\n",
    "labels_kmeans_plus = kmeans_plus.fit_predict(features_2d)\n",
    "results['K-Means (k-means++)'] = labels_kmeans_plus"
   ]
  },
  {
   "cell_type": "code",
   "execution_count": 33,
   "id": "f214b886-5207-4e06-8b7e-4ee63e4e360e",
   "metadata": {},
   "outputs": [],
   "source": [
    "# Bisecting K-Means\n",
    "bisecting_kmeans = BisectingKMeans(n_clusters=4, init='random', random_state=42)\n",
    "labels_bisecting = bisecting_kmeans.fit_predict(features_2d)\n",
    "results['Bisecting K-Means'] = labels_bisecting"
   ]
  },
  {
   "cell_type": "code",
   "execution_count": 35,
   "id": "a7756507-cb83-4df5-b3db-c09a2c5d0c0b",
   "metadata": {},
   "outputs": [],
   "source": [
    "# Spectral Clustering\n",
    "spectral = SpectralClustering(n_clusters=4, random_state=42, affinity='nearest_neighbors')\n",
    "labels_spectral = spectral.fit_predict(features_2d)\n",
    "results['Spectral Clustering'] = labels_spectral"
   ]
  },
  {
   "cell_type": "code",
   "execution_count": null,
   "id": "1f7793b7-b51d-4a2a-b2ef-21d3604ae164",
   "metadata": {},
   "outputs": [],
   "source": []
  },
  {
   "cell_type": "code",
   "execution_count": 38,
   "id": "5fcbbbbf-9e55-418d-81e1-bd933316a742",
   "metadata": {},
   "outputs": [
    {
     "name": "stdout",
     "output_type": "stream",
     "text": [
      "4\n"
     ]
    }
   ],
   "source": [
    "dbscan = DBSCAN(eps=2.15, min_samples=5).fit(features_2d)\n",
    "pred= dbscan.labels_\n",
    "n=len(set(pred))-(1 if -1 in pred else 0)\n",
    "print(n)\n",
    "results['DBSCAN'] = pred\n"
   ]
  },
  {
   "cell_type": "code",
   "execution_count": 40,
   "id": "f242216c-6ae4-4956-9abd-bb66205bddcd",
   "metadata": {},
   "outputs": [],
   "source": [
    "for linkage in ['ward', 'complete', 'average', 'single']:\n",
    "    agglo = AgglomerativeClustering(n_clusters=4, linkage=linkage)\n",
    "    labels_agglo = agglo.fit_predict(features_2d)\n",
    "    results[f'Agglomerative ({linkage})'] = labels_agglo"
   ]
  },
  {
   "cell_type": "code",
   "execution_count": 42,
   "id": "c5224de4-686a-44aa-a05f-6fe652608852",
   "metadata": {},
   "outputs": [
    {
     "name": "stdout",
     "output_type": "stream",
     "text": [
      "\n",
      "Fowlkes-Mallows Index Rankings:\n",
      "K-Means (Random): 0.8899785222429596\n",
      "K-Means (k-means++): 0.8899785222429596\n",
      "Agglomerative (ward): 0.8831133611953269\n",
      "Agglomerative (average): 0.8548003314480488\n",
      "Spectral Clustering: 0.8509576015678834\n",
      "Agglomerative (complete): 0.8240835062812787\n",
      "Bisecting K-Means: 0.7614245419392867\n",
      "Agglomerative (single): 0.6222199833809526\n",
      "DBSCAN: 0.4957314558467113\n",
      "\n",
      "Silhouette Coefficient Rankings:\n",
      "K-Means (Random): 0.6216506361961365\n",
      "K-Means (k-means++): 0.6216506361961365\n",
      "Agglomerative (ward): 0.6151702404022217\n",
      "Spectral Clustering: 0.6131873726844788\n",
      "Agglomerative (average): 0.610584557056427\n",
      "Agglomerative (complete): 0.5959839820861816\n",
      "Bisecting K-Means: 0.5150774717330933\n",
      "Agglomerative (single): 0.14183178544044495\n",
      "DBSCAN: -0.42897188663482666\n"
     ]
    }
   ],
   "source": [
    "fowlkes_mallows = {}\n",
    "silhouette_scores = {}\n",
    "\n",
    "for method, cluster_labels in results.items():\n",
    "    try:\n",
    "        fm_index = fowlkes_mallows_score(labels, cluster_labels)\n",
    "        silhouette = silhouette_score(features_2d, cluster_labels)\n",
    "        fowlkes_mallows[method] = fm_index\n",
    "        silhouette_scores[method] = silhouette\n",
    "    except ValueError:\n",
    "        print(f\"Error evaluating method: {method}\")\n",
    "fowlkes_mallows_ranking = sorted(fowlkes_mallows.items(), key=lambda x: x[1], reverse=True)\n",
    "silhouette_ranking = sorted(silhouette_scores.items(), key=lambda x: x[1], reverse=True)\n",
    "\n",
    "print(\"\\nFowlkes-Mallows Index Rankings:\")\n",
    "for method, score in fowlkes_mallows_ranking:\n",
    "    print(f\"{method}: {score}\")\n",
    "\n",
    "print(\"\\nSilhouette Coefficient Rankings:\")\n",
    "for method, score in silhouette_ranking:\n",
    "    print(f\"{method}: {score}\")\n",
    "\n",
    "\n",
    "\n"
   ]
  },
  {
   "cell_type": "markdown",
   "id": "c38ad89e-d799-4d80-a04d-ec49fc8f16d7",
   "metadata": {},
   "source": [
    "#### Reference : https://pytorch.org/vision/stable/feature_extraction.html\n",
    "#### https://scikit-learn.org/stable/modules/clustering.html\n",
    "#### https://kozodoi.me/blog/20210527/extracting-features"
   ]
  },
  {
   "cell_type": "code",
   "execution_count": null,
   "id": "695bbe07-ea34-4b51-a354-cfd9617f3325",
   "metadata": {},
   "outputs": [],
   "source": []
  }
 ],
 "metadata": {
  "kernelspec": {
   "display_name": "Python 3 (ipykernel)",
   "language": "python",
   "name": "python3"
  },
  "language_info": {
   "codemirror_mode": {
    "name": "ipython",
    "version": 3
   },
   "file_extension": ".py",
   "mimetype": "text/x-python",
   "name": "python",
   "nbconvert_exporter": "python",
   "pygments_lexer": "ipython3",
   "version": "3.12.4"
  }
 },
 "nbformat": 4,
 "nbformat_minor": 5
}
